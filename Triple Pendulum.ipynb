{
 "cells": [
  {
   "cell_type": "markdown",
   "metadata": {},
   "source": [
    "# BONUS FOR ME352\n",
    "## NAME :- VASU BANSAL(160776), VISHAL SINGH(160804) <br>\n",
    "\n",
    "_This code is written in Python 3 and has been tested on Jupyter notebook, a browser based IDE._\n",
    "<br><br>\n",
    "### Purpose and Resources\n",
    "This code simulates the motion of a triple pendulum. The equations of motion are obtained using Lagrange's method.\n",
    "<br><br>\n",
    "The Animation part was adapted from websites like https://brushingupscience.com/2016/06/21/matplotlib-animations-the-easy-way/, https://matplotlib.org/2.1.2/gallery/animation/basic_example.html, https://www.youtube.com/watch?v=ZmYPzESC5YY\n",
    "<br><br>\n",
    "The Time integration part was done by referring the official documentation https://docs.scipy.org/doc/scipy/reference/tutorial/integrate.html. This tutorial https://www.youtube.com/watch?v=VV3BnroVjZo was also a good reference.\n",
    "<br><br>\n",
    "\n",
    "\n",
    "\n"
   ]
  },
  {
   "cell_type": "code",
   "execution_count": 1,
   "metadata": {},
   "outputs": [],
   "source": [
    "## These libraries are used in this code.\n",
    "from numpy import sin, cos\n",
    "import numpy as np\n",
    "import matplotlib.pyplot as plt\n",
    "import scipy.integrate as integrate\n",
    "import matplotlib.animation as animation"
   ]
  },
  {
   "cell_type": "code",
   "execution_count": 2,
   "metadata": {},
   "outputs": [
    {
     "name": "stdout",
     "output_type": "stream",
     "text": [
      "Enter the value of gravitational acceleration : 9.8\n",
      "Enter the length of first pendulum : 1\n",
      "Enter the length of second pendulum : 1\n",
      "Enter the length of third pendulum : 1\n",
      "Enter the mass of first pendulum bob : 1\n",
      "Enter the mass of second pendulum bob : 1\n",
      "Enter the mass of third pendulum bob : 1\n",
      "Enter the duration of the simulation you want : 20\n"
     ]
    }
   ],
   "source": [
    "G = (float)(input(\"Enter the value of gravitational acceleration : \"))  # acceleration due to gravity, in m/s^2\n",
    "\n",
    "L1 = (float)(input(\"Enter the length of first pendulum : \"))  # length of pendulum 1 in m\n",
    "L2 = (float)(input(\"Enter the length of second pendulum : \"))  # length of pendulum 2 in m\n",
    "L3 = (float)(input(\"Enter the length of third pendulum : \"))  # length of pendulum 3 in m\n",
    "\n",
    "M1 = (float)(input(\"Enter the mass of first pendulum bob : \"))  # mass of pendulum 1 in kg\n",
    "M2 = (float)(input(\"Enter the mass of second pendulum bob : \"))  # mass of pendulum 2 in kg\n",
    "M3 = (float)(input(\"Enter the mass of third pendulum bob : \"))  # mass of pendulum 3 in kg\n",
    "\n",
    "time = (int)(input(\"Enter the duration of the simulation you want : \")) # the duration of the simulation video"
   ]
  },
  {
   "cell_type": "code",
   "execution_count": 3,
   "metadata": {},
   "outputs": [],
   "source": [
    "def derivatives(state, t):\n",
    "\n",
    "    dydt = np.zeros_like(state)            \n",
    "    \n",
    "    delta1 = state[0] - state[2] # stores theta1-theta2\n",
    "    delta2 = state[2] - state[4] # stores theta2-theta3\n",
    "    delta3 = state[4] - state[0] # stores theta3-theta1\n",
    "    \n",
    "    \n",
    "    a1=(M1+M2+M3)*L1*L1\n",
    "    a2=L1*L2*cos(delta1)*(M2+M3)\n",
    "    a3=L3*L1*cos(delta3)*M3\n",
    "    \n",
    "    b1=L1*L2*cos(delta1)*(M2+M3)\n",
    "    b2=L2*L2*(M2+M3)\n",
    "    b3=L2*L3*cos(delta2)*M3\n",
    "    \n",
    "    c1=L3*L1*cos(delta3)*M3\n",
    "    c2=L2*L3*cos(delta2)*M3\n",
    "    c3=L3*L3*M3\n",
    "    \n",
    "    a4=(M1+M2+M3)*G*L1*sin(state[0])\n",
    "    a5= -L1*L2*state[3]*(state[1]-state[3])*sin(delta1)*(M2+M3)\n",
    "    a6= L3*L1*state[5]*(state[5]-state[1])*sin(delta3)*M3\n",
    "    \n",
    "    a= a5 - a6 +L1*L2*state[1]*state[3]*sin(delta1)*(M2+M3)-L3*L1*state[5]*state[1]*sin(delta3)*M3 + a4\n",
    "    \n",
    "    b4= -L1*L2*state[1]*(state[1]-state[3])*sin(delta1)*(M2+M3)\n",
    "    b5= L2*L3*state[5]*(state[3]-state[5])*sin(delta2)*M3\n",
    "    b6= (M2+M3)*G*L2*sin(state[2])\n",
    "    \n",
    "    b=b4-b5 -L1*L2*state[1]*state[3]*sin(delta1)*(M2+M3)+L2*L3*state[3]*state[5]*sin(delta2)*M3+ b6\n",
    "    \n",
    "    c4= -L2*L3*state[3]*(state[3]-state[5])*sin(delta2)*M3\n",
    "    c5= L3*L1*state[1]*(state[5]-state[1])*sin(delta3)*M3\n",
    "    c6 = M3*G*L3*sin(state[4])\n",
    "    \n",
    "    c=c4-c5 -L2*L3*state[3]*state[5]*sin(delta2)*M3+L3*L1*state[5]*state[1]*sin(delta3)*M3+ c6\n",
    "\n",
    "    \n",
    "    dydt[0] = state[1]\n",
    "    dydt[2] = state[3]\n",
    "    dydt[4] = state[5]\n",
    "    dydt[1]=-((b2*c3-b3*c2)*(b2*a-b1*b)-(b2*c1-b1*c2)*(b2*c-b3*b))/((b2*c3-b3*c2)*(b2*a1-b1*a2)-(b2*c1-b1*c2)*(b2*a3-b3*a2))\n",
    "    dydt[3]=-((c3*a2-c2*a3)*(a*a2-b*a1)-(c1*a2-c2*a1)*(c*a2-b*a3))/((c3*a2-c2*a3)*(b1*a2-b2*a1)-(c1*a2-c2*a1)*(b3*a2-b2*a3))\n",
    "    dydt[5]=-((b3*a2-b2*a3)*(a*a2-b*a1)-(b1*a2-b2*a1)*(c*a2-b*a3))/((b3*a2-b2*a3)*(c1*a2-c2*a1)-(b1*a2-b2*a1)*(c3*a2-c2*a3))\n",
    "    \n",
    "    return dydt\n",
    "\n",
    "# dydt is an array of six elements. The odd positions store angular velocity or the first derivative of state,\n",
    "# and the even positions store the angular acceleration or the second derivative of state."
   ]
  },
  {
   "cell_type": "markdown",
   "metadata": {},
   "source": [
    "It can be seen that the equations have been broken into pieces by storing complex terms in a variable. This is because there is some limitation in the storage of Python's data handling, due to which the large equations resulted in a zero value every time."
   ]
  },
  {
   "cell_type": "code",
   "execution_count": 4,
   "metadata": {},
   "outputs": [],
   "source": [
    "# Create a time array from 0.....'required time' sampled at 0.05 second steps\n",
    "dt = 0.05\n",
    "t = np.arange(0.0, time, dt)"
   ]
  },
  {
   "cell_type": "code",
   "execution_count": 5,
   "metadata": {},
   "outputs": [
    {
     "name": "stdout",
     "output_type": "stream",
     "text": [
      "Enter the initial angle for the first pendulum : 180\n",
      "Enter the initial angular velocity for the first pendulum : 0\n",
      "Enter the initial angle for the second pendulum : 180\n",
      "Enter the initial angular velocity for the second pendulum : 0\n",
      "Enter the initial angle for the third pendulum : 180\n",
      "Enter the initial angular velocity for the third pendulum : 0\n"
     ]
    }
   ],
   "source": [
    "# theta1, theta2, theta3 are the initial angles (degrees)\n",
    "# omega1, omega2, omega3 are the initial angular velocities (degrees per second)\n",
    "\n",
    "theta1 = (float)(input(\"Enter the initial angle for the first pendulum : \"))\n",
    "omega1 = (float)(input(\"Enter the initial angular velocity for the first pendulum : \"))\n",
    "theta2 = (float)(input(\"Enter the initial angle for the second pendulum : \"))\n",
    "omega2 = (float)(input(\"Enter the initial angular velocity for the second pendulum : \"))\n",
    "theta3 = (float)(input(\"Enter the initial angle for the third pendulum : \"))\n",
    "omega3 = (float)(input(\"Enter the initial angular velocity for the third pendulum : \"))"
   ]
  },
  {
   "cell_type": "code",
   "execution_count": 6,
   "metadata": {},
   "outputs": [],
   "source": [
    "# Defined initial state\n",
    "state = np.radians([theta1, omega1, theta2, omega2 ,theta3, omega3]) # This converts the values from degrees into radians"
   ]
  },
  {
   "cell_type": "markdown",
   "metadata": {},
   "source": [
    "For better understanding of the odeint, please watch this video https://www.youtube.com/watch?v=VV3BnroVjZo\n",
    "<br>\n",
    "The first parameter gives derivatives. Second one has the initial conditions and last is an array, which has steps for the variable over which the derivative has to be integrated"
   ]
  },
  {
   "cell_type": "code",
   "execution_count": 7,
   "metadata": {},
   "outputs": [
    {
     "data": {
      "image/png": "[encoded data removed]",
      "text/plain": [
       "<Figure size 432x288 with 1 Axes>"
      ]
     },
     "metadata": {},
     "output_type": "display_data"
    }
   ],
   "source": [
    "# Integrate ODE using scipy.integrate.\n",
    "y = integrate.odeint(derivatives, state, t)\n",
    "\n",
    "\n",
    "# The array 'y' has the coordinates for every time step over the duration we wanted.\n",
    "\n",
    "x1 = L1*sin(y[:, 0]) # Stores x coordinate of first pendulum's bob for every time step\n",
    "y1 = -L1*cos(y[:, 0]) # Stores y coordinate of first pendulum's bob for every time step\n",
    "\n",
    "x2 = L2*sin(y[:, 2]) + x1 \n",
    "y2 = -L2*cos(y[:, 2]) + y1 \n",
    "\n",
    "x3 = L3*sin(y[:, 4]) + x2\n",
    "y3 = -L3*cos(y[:, 4]) + y2\n",
    "\n",
    "\n",
    "# Defining the 2D plane on which simulation will be performed\n",
    "fig = plt.figure()\n",
    "ax = fig.add_subplot(111, autoscale_on=True, xlim=(-(L1+L2+L3), (L1+L2+L3)), ylim=(-(L1+L2+L3), (L1+L2+L3)))\n",
    "ax.grid()\n",
    "\n",
    "line, = ax.plot([], [], 'o-', lw=2)\n",
    "time_template = 'time = %.1fs'\n",
    "time_text = ax.text(0.05, 0.9, '', transform=ax.transAxes)\n"
   ]
  },
  {
   "cell_type": "code",
   "execution_count": 8,
   "metadata": {},
   "outputs": [],
   "source": [
    "def init(): # Initializing Animation\n",
    "    line.set_data([], [])\n",
    "    time_text.set_text('')\n",
    "    return line, time_text"
   ]
  },
  {
   "cell_type": "code",
   "execution_count": 11,
   "metadata": {},
   "outputs": [],
   "source": [
    "def animate(i): # Creating an animation step\n",
    "    thisx = [0, x1[i], x2[i], x3[i]]\n",
    "    thisy = [0, y1[i], y2[i], y3[i]]\n",
    "    \n",
    "    \n",
    "    \n",
    "    plt.plot(x1[i],y1[i],marker='o',markersize='1',color='black') # To get the scatter plot of the first pendulum's bob\n",
    "    plt.plot(x2[i],y2[i],marker='o',markersize='1',color='green') # To get the scatter plot of the second pendulum's bob\n",
    "    plt.plot(x3[i],y3[i],marker='o',markersize='1',color='red') # To get the scatter plot of the third pendulum's bob\n",
    "\n",
    "    line.set_data(thisx, thisy) # Draws lines of required coordinates in the current frame\n",
    "    time_text.set_text(time_template % (i*dt)) # Displays time for the current frame\n",
    "    \n",
    "    return line, time_text"
   ]
  },
  {
   "cell_type": "markdown",
   "metadata": {},
   "source": [
    "For creating the animation, 'FuncAnimation' is used. These videos explains it nicely https://www.youtube.com/watch?v=c7GoaIsPlLE https://www.youtube.com/watch?v=ZmYPzESC5YY"
   ]
  },
  {
   "cell_type": "code",
   "execution_count": 12,
   "metadata": {},
   "outputs": [
    {
     "data": {
      "image/png": "[encoded data removed]",
      "text/plain": [
       "<Figure size 432x288 with 1 Axes>"
      ]
     },
     "metadata": {},
     "output_type": "display_data"
    }
   ],
   "source": [
    "ani = animation.FuncAnimation(fig, animate, np.arange(1, len(y)),\n",
    "                              interval= time , blit=True, init_func=init) # Animation object is created\n",
    "\n",
    "\n",
    "ani.save('superimpose_3.mp4', fps=15) # Animation is saved as an mp4 file. fps stands for frames per second. It can\n",
    "                                        # changed according to one's requirements.\n",
    "\n",
    "\n",
    "plt.show()\n"
   ]
  }
 ],
 "metadata": {
  "kernelspec": {
   "display_name": "Python 3",
   "language": "python",
   "name": "python3"
  },
  "language_info": {
   "codemirror_mode": {
    "name": "ipython",
    "version": 3
   },
   "file_extension": ".py",
   "mimetype": "text/x-python",
   "name": "python",
   "nbconvert_exporter": "python",
   "pygments_lexer": "ipython3",
   "version": "3.6.5"
  }
 },
 "nbformat": 4,
 "nbformat_minor": 2
}
